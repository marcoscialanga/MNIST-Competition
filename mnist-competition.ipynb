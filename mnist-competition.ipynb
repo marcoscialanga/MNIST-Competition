{
 "cells": [
  {
   "cell_type": "code",
   "execution_count": 1,
   "metadata": {
    "_cell_guid": "b1076dfc-b9ad-4769-8c92-a6c4dae69d19",
    "_uuid": "8f2839f25d086af736a60e9eeb907d3b93b6e0e5",
    "execution": {
     "iopub.execute_input": "2020-11-27T09:57:14.463259Z",
     "iopub.status.busy": "2020-11-27T09:57:14.462267Z",
     "iopub.status.idle": "2020-11-27T09:57:14.467240Z",
     "shell.execute_reply": "2020-11-27T09:57:14.468210Z"
    },
    "papermill": {
     "duration": 0.033657,
     "end_time": "2020-11-27T09:57:14.468428",
     "exception": false,
     "start_time": "2020-11-27T09:57:14.434771",
     "status": "completed"
    },
    "tags": []
   },
   "outputs": [
    {
     "name": "stdout",
     "output_type": "stream",
     "text": [
      "/kaggle/input/digit-recognizer/train.csv\n",
      "/kaggle/input/digit-recognizer/test.csv\n",
      "/kaggle/input/digit-recognizer/sample_submission.csv\n"
     ]
    }
   ],
   "source": [
    "# This Python 3 environment comes with many helpful analytics libraries installed\n",
    "# It is defined by the kaggle/python Docker image: https://github.com/kaggle/docker-python\n",
    "# For example, here's several helpful packages to load\n",
    "\n",
    "import numpy as np # linear algebra\n",
    "import pandas as pd # data processing, CSV file I/O (e.g. pd.read_csv)\n",
    "\n",
    "# Input data files are available in the read-only \"../input/\" directory\n",
    "# For example, running this (by clicking run or pressing Shift+Enter) will list all files under the input directory\n",
    "\n",
    "import os\n",
    "for dirname, _, filenames in os.walk('/kaggle/input'):\n",
    "    for filename in filenames:\n",
    "        print(os.path.join(dirname, filename))\n",
    "\n",
    "# You can write up to 5GB to the current directory (/kaggle/working/) that gets preserved as output when you create a version using \"Save & Run All\" \n",
    "# You can also write temporary files to /kaggle/temp/, but they won't be saved outside of the current session"
   ]
  },
  {
   "cell_type": "markdown",
   "metadata": {
    "papermill": {
     "duration": 0.019355,
     "end_time": "2020-11-27T09:57:14.509359",
     "exception": false,
     "start_time": "2020-11-27T09:57:14.490004",
     "status": "completed"
    },
    "tags": []
   },
   "source": [
    "This is my first time working with Neural Networks. As a beginner, I learned a lot from other notebooks on Kaggle, especially Yassine Ghouzam's."
   ]
  },
  {
   "cell_type": "markdown",
   "metadata": {
    "papermill": {
     "duration": 0.019306,
     "end_time": "2020-11-27T09:57:14.551244",
     "exception": false,
     "start_time": "2020-11-27T09:57:14.531938",
     "status": "completed"
    },
    "tags": []
   },
   "source": [
    "Let's start by importing the libraries we need. To build our neural network, we'll use keras."
   ]
  },
  {
   "cell_type": "code",
   "execution_count": 2,
   "metadata": {
    "execution": {
     "iopub.execute_input": "2020-11-27T09:57:14.606149Z",
     "iopub.status.busy": "2020-11-27T09:57:14.605278Z",
     "iopub.status.idle": "2020-11-27T09:57:22.406811Z",
     "shell.execute_reply": "2020-11-27T09:57:22.406126Z"
    },
    "papermill": {
     "duration": 7.835977,
     "end_time": "2020-11-27T09:57:22.406983",
     "exception": false,
     "start_time": "2020-11-27T09:57:14.571006",
     "status": "completed"
    },
    "tags": []
   },
   "outputs": [],
   "source": [
    "import matplotlib.pyplot as plt\n",
    "import matplotlib.image as mpimg\n",
    "import seaborn as sns\n",
    "%matplotlib inline\n",
    "\n",
    "np.random.seed(2)\n",
    "\n",
    "from sklearn.model_selection import train_test_split\n",
    "from sklearn.metrics import confusion_matrix\n",
    "import itertools\n",
    "\n",
    "from keras.utils.np_utils import to_categorical # convert to one-hot-encoding\n",
    "from keras.models import Sequential\n",
    "from keras.layers import Dense, Dropout, Flatten, Conv2D, MaxPool2D\n",
    "from keras.optimizers import RMSprop\n",
    "from keras.preprocessing.image import ImageDataGenerator\n",
    "from keras.callbacks import ReduceLROnPlateau"
   ]
  },
  {
   "cell_type": "markdown",
   "metadata": {
    "papermill": {
     "duration": 0.019129,
     "end_time": "2020-11-27T09:57:22.446030",
     "exception": false,
     "start_time": "2020-11-27T09:57:22.426901",
     "status": "completed"
    },
    "tags": []
   },
   "source": [
    "Let's import the data. We already have a dataset for training and one for testing."
   ]
  },
  {
   "cell_type": "code",
   "execution_count": 3,
   "metadata": {
    "_cell_guid": "79c7e3d0-c299-4dcb-8224-4455121ee9b0",
    "_uuid": "d629ff2d2480ee46fbb7e2d37f6b5fab8052498a",
    "execution": {
     "iopub.execute_input": "2020-11-27T09:57:22.493405Z",
     "iopub.status.busy": "2020-11-27T09:57:22.492633Z",
     "iopub.status.idle": "2020-11-27T09:57:29.143501Z",
     "shell.execute_reply": "2020-11-27T09:57:29.142661Z"
    },
    "papermill": {
     "duration": 6.677989,
     "end_time": "2020-11-27T09:57:29.143635",
     "exception": false,
     "start_time": "2020-11-27T09:57:22.465646",
     "status": "completed"
    },
    "tags": []
   },
   "outputs": [],
   "source": [
    "train_data = pd.read_csv(\"/kaggle/input/digit-recognizer/train.csv\") #labelled\n",
    "test_data = pd.read_csv(\"/kaggle/input/digit-recognizer/test.csv\") #not labelled"
   ]
  },
  {
   "cell_type": "code",
   "execution_count": 4,
   "metadata": {
    "execution": {
     "iopub.execute_input": "2020-11-27T09:57:29.189920Z",
     "iopub.status.busy": "2020-11-27T09:57:29.188478Z",
     "iopub.status.idle": "2020-11-27T09:57:29.208913Z",
     "shell.execute_reply": "2020-11-27T09:57:29.208166Z"
    },
    "papermill": {
     "duration": 0.045247,
     "end_time": "2020-11-27T09:57:29.209042",
     "exception": false,
     "start_time": "2020-11-27T09:57:29.163795",
     "status": "completed"
    },
    "tags": []
   },
   "outputs": [
    {
     "data": {
      "text/plain": [
       "False"
      ]
     },
     "execution_count": 4,
     "metadata": {},
     "output_type": "execute_result"
    }
   ],
   "source": [
    "#check for missing values\n",
    "train_data.isna().any().any()"
   ]
  },
  {
   "cell_type": "code",
   "execution_count": 5,
   "metadata": {
    "execution": {
     "iopub.execute_input": "2020-11-27T09:57:29.255739Z",
     "iopub.status.busy": "2020-11-27T09:57:29.254962Z",
     "iopub.status.idle": "2020-11-27T09:57:29.269619Z",
     "shell.execute_reply": "2020-11-27T09:57:29.268862Z"
    },
    "papermill": {
     "duration": 0.040211,
     "end_time": "2020-11-27T09:57:29.269748",
     "exception": false,
     "start_time": "2020-11-27T09:57:29.229537",
     "status": "completed"
    },
    "tags": []
   },
   "outputs": [
    {
     "data": {
      "text/plain": [
       "False"
      ]
     },
     "execution_count": 5,
     "metadata": {},
     "output_type": "execute_result"
    }
   ],
   "source": [
    "test_data.isnull().any().any()"
   ]
  },
  {
   "cell_type": "code",
   "execution_count": 6,
   "metadata": {
    "execution": {
     "iopub.execute_input": "2020-11-27T09:57:29.473367Z",
     "iopub.status.busy": "2020-11-27T09:57:29.472282Z",
     "iopub.status.idle": "2020-11-27T09:57:29.476037Z",
     "shell.execute_reply": "2020-11-27T09:57:29.475363Z"
    },
    "papermill": {
     "duration": 0.185175,
     "end_time": "2020-11-27T09:57:29.476161",
     "exception": false,
     "start_time": "2020-11-27T09:57:29.290986",
     "status": "completed"
    },
    "tags": []
   },
   "outputs": [],
   "source": [
    "train_y = train_data[\"label\"]\n",
    "train_x = train_data.drop(labels = \"label\", axis = 1)"
   ]
  },
  {
   "cell_type": "markdown",
   "metadata": {
    "papermill": {
     "duration": 0.020755,
     "end_time": "2020-11-27T09:57:29.518028",
     "exception": false,
     "start_time": "2020-11-27T09:57:29.497273",
     "status": "completed"
    },
    "tags": []
   },
   "source": [
    "We notice there are no missing values. So we can proceed."
   ]
  },
  {
   "cell_type": "markdown",
   "metadata": {
    "papermill": {
     "duration": 0.020842,
     "end_time": "2020-11-27T09:57:29.559989",
     "exception": false,
     "start_time": "2020-11-27T09:57:29.539147",
     "status": "completed"
    },
    "tags": []
   },
   "source": [
    "Now we normalize the data. The model will work better if the values are between 0 and 1. From the description of the dataset, we know that: \"Each pixel has a single pixel-value associated with it, indicating the lightness or darkness of that pixel, with higher numbers meaning darker. This pixel-value is an integer between 0 and 255, inclusive.\" Thus, if we divide our values by 255, proportions will hold but all values will be between 0 and 1."
   ]
  },
  {
   "cell_type": "code",
   "execution_count": 7,
   "metadata": {
    "execution": {
     "iopub.execute_input": "2020-11-27T09:57:29.608381Z",
     "iopub.status.busy": "2020-11-27T09:57:29.607552Z",
     "iopub.status.idle": "2020-11-27T09:57:29.765781Z",
     "shell.execute_reply": "2020-11-27T09:57:29.765136Z"
    },
    "papermill": {
     "duration": 0.185017,
     "end_time": "2020-11-27T09:57:29.765950",
     "exception": false,
     "start_time": "2020-11-27T09:57:29.580933",
     "status": "completed"
    },
    "tags": []
   },
   "outputs": [],
   "source": [
    "train_x = train_x / 255\n",
    "test_data = test_data / 255"
   ]
  },
  {
   "cell_type": "markdown",
   "metadata": {
    "papermill": {
     "duration": 0.022111,
     "end_time": "2020-11-27T09:57:29.810043",
     "exception": false,
     "start_time": "2020-11-27T09:57:29.787932",
     "status": "completed"
    },
    "tags": []
   },
   "source": [
    "The images are stored as 1D lists of 784 values. We notice that 784 = 28^2. Thus, we can reshape our data into 28 * 28 images."
   ]
  },
  {
   "cell_type": "code",
   "execution_count": 8,
   "metadata": {
    "execution": {
     "iopub.execute_input": "2020-11-27T09:57:29.860020Z",
     "iopub.status.busy": "2020-11-27T09:57:29.859153Z",
     "iopub.status.idle": "2020-11-27T09:57:29.862638Z",
     "shell.execute_reply": "2020-11-27T09:57:29.861823Z"
    },
    "papermill": {
     "duration": 0.031108,
     "end_time": "2020-11-27T09:57:29.862772",
     "exception": false,
     "start_time": "2020-11-27T09:57:29.831664",
     "status": "completed"
    },
    "tags": []
   },
   "outputs": [],
   "source": [
    "#reshape data\n",
    "train_x = train_x.values.reshape(-1,28,28,1)\n",
    "test_data = test_data.values.reshape(-1,28,28,1)"
   ]
  },
  {
   "cell_type": "markdown",
   "metadata": {
    "papermill": {
     "duration": 0.021458,
     "end_time": "2020-11-27T09:57:29.906104",
     "exception": false,
     "start_time": "2020-11-27T09:57:29.884646",
     "status": "completed"
    },
    "tags": []
   },
   "source": [
    "Encode labels (1,2,3 etc.) to one-hot vectors. For example, 1 becomes 0100000000"
   ]
  },
  {
   "cell_type": "code",
   "execution_count": 9,
   "metadata": {
    "execution": {
     "iopub.execute_input": "2020-11-27T09:57:29.955487Z",
     "iopub.status.busy": "2020-11-27T09:57:29.954487Z",
     "iopub.status.idle": "2020-11-27T09:57:29.959107Z",
     "shell.execute_reply": "2020-11-27T09:57:29.958468Z"
    },
    "papermill": {
     "duration": 0.031347,
     "end_time": "2020-11-27T09:57:29.959230",
     "exception": false,
     "start_time": "2020-11-27T09:57:29.927883",
     "status": "completed"
    },
    "tags": []
   },
   "outputs": [],
   "source": [
    "train_y = to_categorical(train_y, num_classes = 10)"
   ]
  },
  {
   "cell_type": "code",
   "execution_count": 10,
   "metadata": {
    "execution": {
     "iopub.execute_input": "2020-11-27T09:57:30.009195Z",
     "iopub.status.busy": "2020-11-27T09:57:30.008377Z",
     "iopub.status.idle": "2020-11-27T09:57:30.419502Z",
     "shell.execute_reply": "2020-11-27T09:57:30.418866Z"
    },
    "papermill": {
     "duration": 0.438538,
     "end_time": "2020-11-27T09:57:30.419632",
     "exception": false,
     "start_time": "2020-11-27T09:57:29.981094",
     "status": "completed"
    },
    "tags": []
   },
   "outputs": [],
   "source": [
    "random_seed = 2\n",
    "train_x, val_x, train_y, val_y = train_test_split(train_x, train_y, test_size = 0.1, random_state = random_seed)"
   ]
  },
  {
   "cell_type": "markdown",
   "metadata": {
    "papermill": {
     "duration": 0.021393,
     "end_time": "2020-11-27T09:57:30.462908",
     "exception": false,
     "start_time": "2020-11-27T09:57:30.441515",
     "status": "completed"
    },
    "tags": []
   },
   "source": [
    "Let's see how our digits look like, as 28 * 28 pixel images."
   ]
  },
  {
   "cell_type": "code",
   "execution_count": 11,
   "metadata": {
    "execution": {
     "iopub.execute_input": "2020-11-27T09:57:30.512374Z",
     "iopub.status.busy": "2020-11-27T09:57:30.511543Z",
     "iopub.status.idle": "2020-11-27T09:57:30.745976Z",
     "shell.execute_reply": "2020-11-27T09:57:30.745186Z"
    },
    "papermill": {
     "duration": 0.261504,
     "end_time": "2020-11-27T09:57:30.746106",
     "exception": false,
     "start_time": "2020-11-27T09:57:30.484602",
     "status": "completed"
    },
    "tags": []
   },
   "outputs": [
    {
     "data": {
      "image/png": "[encoded data removed]",
      "text/plain": [
       "<Figure size 432x288 with 1 Axes>"
      ]
     },
     "metadata": {
      "needs_background": "light"
     },
     "output_type": "display_data"
    }
   ],
   "source": [
    "g = plt.imshow(train_x[0][:,:,0])"
   ]
  },
  {
   "cell_type": "markdown",
   "metadata": {
    "papermill": {
     "duration": 0.022483,
     "end_time": "2020-11-27T09:57:30.791607",
     "exception": false,
     "start_time": "2020-11-27T09:57:30.769124",
     "status": "completed"
    },
    "tags": []
   },
   "source": [
    "Let's build the model. I learned this from Yassine Ghouzam's notebook."
   ]
  },
  {
   "cell_type": "code",
   "execution_count": 12,
   "metadata": {
    "execution": {
     "iopub.execute_input": "2020-11-27T09:57:30.852700Z",
     "iopub.status.busy": "2020-11-27T09:57:30.851923Z",
     "iopub.status.idle": "2020-11-27T09:57:31.094349Z",
     "shell.execute_reply": "2020-11-27T09:57:31.093550Z"
    },
    "papermill": {
     "duration": 0.279729,
     "end_time": "2020-11-27T09:57:31.094473",
     "exception": false,
     "start_time": "2020-11-27T09:57:30.814744",
     "status": "completed"
    },
    "tags": []
   },
   "outputs": [],
   "source": [
    "model = Sequential()\n",
    "\n",
    "model.add(Conv2D(filters = 32, kernel_size = (5,5),padding = 'Same', \n",
    "                 activation ='relu', input_shape = (28,28,1)))\n",
    "model.add(Conv2D(filters = 32, kernel_size = (5,5),padding = 'Same', \n",
    "                 activation ='relu'))\n",
    "model.add(MaxPool2D(pool_size=(2,2))) #reduce computational cost, picks maximum value between two neighbourhing pixels\n",
    "model.add(Dropout(0.25)) #reduce overfitting by ignoring some nodes randomly\n",
    "\n",
    "\n",
    "model.add(Conv2D(filters = 64, kernel_size = (3,3),padding = 'Same', \n",
    "                 activation ='relu'))\n",
    "model.add(Conv2D(filters = 64, kernel_size = (3,3),padding = 'Same', \n",
    "                 activation ='relu'))\n",
    "model.add(MaxPool2D(pool_size=(2,2), strides=(2,2)))\n",
    "model.add(Dropout(0.25))\n",
    "\n",
    "\n",
    "model.add(Flatten())\n",
    "model.add(Dense(256, activation = \"relu\"))\n",
    "model.add(Dropout(0.5))\n",
    "model.add(Dense(10, activation = \"softmax\"))"
   ]
  },
  {
   "cell_type": "markdown",
   "metadata": {
    "papermill": {
     "duration": 0.023672,
     "end_time": "2020-11-27T09:57:31.142041",
     "exception": false,
     "start_time": "2020-11-27T09:57:31.118369",
     "status": "completed"
    },
    "tags": []
   },
   "source": [
    "Set up optimizer to improve parameters."
   ]
  },
  {
   "cell_type": "code",
   "execution_count": 13,
   "metadata": {
    "execution": {
     "iopub.execute_input": "2020-11-27T09:57:31.204924Z",
     "iopub.status.busy": "2020-11-27T09:57:31.204140Z",
     "iopub.status.idle": "2020-11-27T09:57:31.210804Z",
     "shell.execute_reply": "2020-11-27T09:57:31.210042Z"
    },
    "papermill": {
     "duration": 0.044737,
     "end_time": "2020-11-27T09:57:31.210949",
     "exception": false,
     "start_time": "2020-11-27T09:57:31.166212",
     "status": "completed"
    },
    "tags": []
   },
   "outputs": [],
   "source": [
    "optimizer = RMSprop(lr=0.001, rho=0.9, epsilon=1e-08, decay=0.0)\n",
    "model.compile(optimizer = optimizer , loss = \"categorical_crossentropy\", metrics=[\"accuracy\"])"
   ]
  },
  {
   "cell_type": "code",
   "execution_count": 14,
   "metadata": {
    "execution": {
     "iopub.execute_input": "2020-11-27T09:57:31.262828Z",
     "iopub.status.busy": "2020-11-27T09:57:31.262070Z",
     "iopub.status.idle": "2020-11-27T09:57:31.264977Z",
     "shell.execute_reply": "2020-11-27T09:57:31.264351Z"
    },
    "papermill": {
     "duration": 0.031052,
     "end_time": "2020-11-27T09:57:31.265108",
     "exception": false,
     "start_time": "2020-11-27T09:57:31.234056",
     "status": "completed"
    },
    "tags": []
   },
   "outputs": [],
   "source": [
    "epochs = 1 #only one epoch to fit the model quickly\n",
    "batch_size = 86 #86 digits passed each time through the model"
   ]
  },
  {
   "cell_type": "code",
   "execution_count": 15,
   "metadata": {
    "execution": {
     "iopub.execute_input": "2020-11-27T09:57:31.320585Z",
     "iopub.status.busy": "2020-11-27T09:57:31.319800Z",
     "iopub.status.idle": "2020-11-27T09:59:43.248256Z",
     "shell.execute_reply": "2020-11-27T09:59:43.249091Z"
    },
    "papermill": {
     "duration": 131.95973,
     "end_time": "2020-11-27T09:59:43.249272",
     "exception": false,
     "start_time": "2020-11-27T09:57:31.289542",
     "status": "completed"
    },
    "tags": []
   },
   "outputs": [
    {
     "name": "stdout",
     "output_type": "stream",
     "text": [
      "440/440 - 130s - loss: 0.2493 - accuracy: 0.9222 - val_loss: 0.0925 - val_accuracy: 0.9719\n"
     ]
    }
   ],
   "source": [
    "history = model.fit(train_x, train_y, batch_size = batch_size, epochs = epochs, \n",
    "                    validation_data = (val_x, val_y), verbose = 2) \n",
    "\n",
    "#verbose is just a parameter to decide how the fitting is proceeding"
   ]
  },
  {
   "cell_type": "markdown",
   "metadata": {
    "papermill": {
     "duration": 0.023642,
     "end_time": "2020-11-27T09:59:43.296935",
     "exception": false,
     "start_time": "2020-11-27T09:59:43.273293",
     "status": "completed"
    },
    "tags": []
   },
   "source": [
    "Now we can see our results on the validation data. Since we have achieved a pretty good accuracy without training the model for too long, we can run the model on the test data and submit our results."
   ]
  },
  {
   "cell_type": "code",
   "execution_count": 16,
   "metadata": {
    "execution": {
     "iopub.execute_input": "2020-11-27T09:59:43.353395Z",
     "iopub.status.busy": "2020-11-27T09:59:43.352554Z",
     "iopub.status.idle": "2020-11-27T10:00:02.271172Z",
     "shell.execute_reply": "2020-11-27T10:00:02.270327Z"
    },
    "papermill": {
     "duration": 18.950628,
     "end_time": "2020-11-27T10:00:02.271308",
     "exception": false,
     "start_time": "2020-11-27T09:59:43.320680",
     "status": "completed"
    },
    "tags": []
   },
   "outputs": [],
   "source": [
    "results = model.predict(test_data)\n",
    "\n",
    "results = np.argmax(results,axis = 1)\n",
    "\n",
    "results = pd.Series(results,name=\"Label\")\n",
    "\n",
    "submission = pd.concat([pd.Series(range(1,28001),name = \"ImageId\"),results],axis = 1)\n",
    "\n",
    "submission.to_csv(\"cnn_mnist_datagen.csv\",index=False)"
   ]
  }
 ],
 "metadata": {
  "kernelspec": {
   "display_name": "Python 3",
   "language": "python",
   "name": "python3"
  },
  "language_info": {
   "codemirror_mode": {
    "name": "ipython",
    "version": 3
   },
   "file_extension": ".py",
   "mimetype": "text/x-python",
   "name": "python",
   "nbconvert_exporter": "python",
   "pygments_lexer": "ipython3",
   "version": "3.7.6"
  },
  "papermill": {
   "duration": 174.111259,
   "end_time": "2020-11-27T10:00:03.401259",
   "environment_variables": {},
   "exception": null,
   "input_path": "__notebook__.ipynb",
   "output_path": "__notebook__.ipynb",
   "parameters": {},
   "start_time": "2020-11-27T09:57:09.290000",
   "version": "2.1.0"
  }
 },
 "nbformat": 4,
 "nbformat_minor": 4
}
